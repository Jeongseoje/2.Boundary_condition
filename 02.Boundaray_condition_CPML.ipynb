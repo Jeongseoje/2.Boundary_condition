{
 "cells": [
  {
   "cell_type": "markdown",
   "id": "2b42a99b-a290-46bd-9120-310a15a6ba44",
   "metadata": {},
   "source": [
    "## Importing modules"
   ]
  },
  {
   "cell_type": "code",
   "execution_count": 1,
   "id": "0fadcc8e-ff80-4583-9571-e79f022c536e",
   "metadata": {},
   "outputs": [],
   "source": [
    "%load_ext autoreload\n",
    "%autoreload 2"
   ]
  },
  {
   "cell_type": "code",
   "execution_count": 2,
   "id": "af7648f6-5d92-4118-a3c0-0e1d1fcc570a",
   "metadata": {},
   "outputs": [
    {
     "name": "stdin",
     "output_type": "stream",
     "text": [
      "Once deleted, variables cannot be recovered. Proceed (y/[n])?  y\n"
     ]
    }
   ],
   "source": [
    "reset"
   ]
  },
  {
   "cell_type": "code",
   "execution_count": 18,
   "id": "e1a2ee49-93a7-417e-84e6-b4e03a91d2c1",
   "metadata": {},
   "outputs": [],
   "source": [
    "import numpy as np\n",
    "import matplotlib.pyplot as plt\n",
    "from boundary import *\n",
    "from tools import *\n",
    "from oper import *\n",
    "\n",
    "rtype = np.float32"
   ]
  },
  {
   "cell_type": "markdown",
   "id": "78348fd5-237f-435f-9aec-34c295a6a3d7",
   "metadata": {},
   "source": [
    "## input parameters"
   ]
  },
  {
   "cell_type": "code",
   "execution_count": 19,
   "id": "21f642d5-fff4-4e0d-a031-ff165ffed2b3",
   "metadata": {},
   "outputs": [],
   "source": [
    "## Setting parameter\n",
    "\n",
    "nx = 201 \n",
    "nz = 201\n",
    "nt = 1001\n",
    "npml = 20\n",
    "\n",
    "dx = 10.\n",
    "dz = 10.\n",
    "dt = 1e-3\n",
    "\n",
    "order = 2"
   ]
  },
  {
   "cell_type": "markdown",
   "id": "d0980ce7-7e33-4b33-812c-2ae944b20ce1",
   "metadata": {},
   "source": [
    "## set model"
   ]
  },
  {
   "cell_type": "code",
   "execution_count": 20,
   "id": "5d9bb4b7-45e1-42e8-a7e8-dcc48e2794d4",
   "metadata": {},
   "outputs": [],
   "source": [
    "vp=np.ones((nz,nx),rtype)*3000\n",
    "rho=np.ones((nz,nx),rtype)*1."
   ]
  },
  {
   "cell_type": "code",
   "execution_count": 21,
   "id": "ec6c12dc-28f0-44cd-988e-034b0fb4083f",
   "metadata": {},
   "outputs": [],
   "source": [
    "nx_e = nx + 2*npml\n",
    "nz_e = nz + 2*npml\n",
    "a_x,a_xh,a_z,a_zh,b_x,b_xh,b_z,b_zh=gen_cpml(npml,fmax,dx,dt,nx_e,nz_e,rtype)"
   ]
  },
  {
   "cell_type": "code",
   "execution_count": 31,
   "id": "16210961-8be2-45db-9535-720a485696cf",
   "metadata": {},
   "outputs": [
    {
     "data": {
      "text/plain": [
       "241"
      ]
     },
     "execution_count": 31,
     "metadata": {},
     "output_type": "execute_result"
    }
   ],
   "source": [
    "nx_e"
   ]
  },
  {
   "cell_type": "code",
   "execution_count": 22,
   "id": "eb40eeb9-d517-41e4-a606-3126db2202bc",
   "metadata": {},
   "outputs": [],
   "source": [
    "vp_e = vel_exp(nx,nz,order,npml,rtype,vp)\n",
    "rho_e = vel_exp(nx,nz,order,npml,rtype,rho)"
   ]
  },
  {
   "cell_type": "code",
   "execution_count": 23,
   "id": "573f2fb5-4f75-4066-9906-1397c2f10f7e",
   "metadata": {},
   "outputs": [],
   "source": [
    "vp_e = vp_e[order:order+nz_e,order:order+nx_e]\n",
    "rho_e = rho_e[order:order+nz_e,order:order+nx_e]"
   ]
  },
  {
   "cell_type": "code",
   "execution_count": 28,
   "id": "81c1f630-8604-4e43-b7be-df5ecee20c91",
   "metadata": {},
   "outputs": [
    {
     "data": {
      "text/plain": [
       "(241, 241)"
      ]
     },
     "execution_count": 28,
     "metadata": {},
     "output_type": "execute_result"
    }
   ],
   "source": [
    "vp_e.shape"
   ]
  },
  {
   "cell_type": "code",
   "execution_count": 30,
   "id": "8ffb43a9-9765-4236-ac67-c19ce6dc89a8",
   "metadata": {
    "tags": []
   },
   "outputs": [
    {
     "data": {
      "image/png": "[encoded data removed]",
      "text/plain": [
       "<Figure size 720x432 with 1 Axes>"
      ]
     },
     "metadata": {
      "needs_background": "light"
     },
     "output_type": "display_data"
    }
   ],
   "source": [
    "fig = plt.figure(figsize=(10,6))\n",
    "\n",
    "plt.imshow(vp_e,aspect='auto')\n",
    "plt.savefig('True_velocity.jpg')\n",
    "    "
   ]
  },
  {
   "cell_type": "markdown",
   "id": "f65f3702-5739-41e3-ba4d-9708fdcfef8e",
   "metadata": {},
   "source": [
    "## set source & receiver"
   ]
  },
  {
   "cell_type": "code",
   "execution_count": 37,
   "id": "7e534cf7-3369-4c48-9335-f1b514d5bb91",
   "metadata": {},
   "outputs": [],
   "source": [
    "nshot = 1\n",
    "# sx = 100 + order + npml\n",
    "# sz = 100 + order + npml\n",
    "\n",
    "# rx = 2 + order\n",
    "# rz = 2 + order\n",
    "\n",
    "\n",
    "## shot\n",
    "nshot = 1\n",
    "fshot_x = 100\n",
    "dshot_x = 0\n",
    "fshot_z = 100\n",
    "dshot_z = 0\n",
    "\n",
    "## receiver\n",
    "nrcv = nx\n",
    "frcv_x = 2\n",
    "drcv_x = 1\n",
    "frcv_z = 2\n",
    "drcv_z = 0\n",
    "\n",
    "\n",
    "sx,sz = ass_shot(nshot,fshot_x,dshot_x,fshot_z,dshot_z,npml,order)\n",
    "ishot = 0;\n",
    "geom_ID = 1;\n",
    "\n",
    "rx,rz = ass_rcv(ishot,nrcv,frcv_x,drcv_x,frcv_z,drcv_z,npml,order,geom_ID)\n"
   ]
  },
  {
   "cell_type": "code",
   "execution_count": 34,
   "id": "3357f0e6-3116-415d-97fd-845ae58aa294",
   "metadata": {},
   "outputs": [],
   "source": [
    "## Source\n",
    "\n",
    "f0 = 5\n",
    "fmax = f0*3\n",
    "\n",
    "factor=1; t0=1.2/f0  \n",
    "a=(np.pi*f0)**2\n",
    "ricker=np.zeros((nt),rtype)\n",
    "for it in np.arange(nt):\n",
    "    dm = a*((it*dt-t0)**2)\n",
    "    ricker[it] = factor*(1-(2*dm))*np.exp(-dm)\n",
    "source=ricker\n"
   ]
  },
  {
   "cell_type": "code",
   "execution_count": 35,
   "id": "2976eba6-a4be-4076-9cfe-0cc0121c752f",
   "metadata": {},
   "outputs": [
    {
     "data": {
      "image/png": "[encoded data removed]",
      "text/plain": [
       "<Figure size 720x432 with 1 Axes>"
      ]
     },
     "metadata": {
      "needs_background": "light"
     },
     "output_type": "display_data"
    },
    {
     "data": {
      "text/plain": [
       "<Figure size 432x288 with 0 Axes>"
      ]
     },
     "metadata": {},
     "output_type": "display_data"
    }
   ],
   "source": [
    "fig = plt.figure(figsize=(10,6))\n",
    "\n",
    "plt.plot(source)\n",
    "plt.show()\n",
    "plt.savefig('Source.jpg')"
   ]
  },
  {
   "cell_type": "markdown",
   "id": "b8d3df30-67ac-44f3-81c3-26906d92238d",
   "metadata": {},
   "source": [
    "## 2D forward modeling"
   ]
  },
  {
   "cell_type": "code",
   "execution_count": 38,
   "id": "8a0bfb70-1cdd-4cd1-8cd6-c5c5546ff3ac",
   "metadata": {
    "tags": []
   },
   "outputs": [],
   "source": [
    "mnx = nx + order\n",
    "mnz = nz + order\n",
    "\n",
    "rho = np.ones((mnz, mnx), rtype)\n",
    "u1 = np.zeros((mnz, mnx), rtype)\n",
    "u2 = np.zeros_like(u1)\n",
    "u3 = np.zeros_like(u1)\n",
    "shot = np.zeros_like(u1)\n",
    "shot[sz, sx] = 1\n",
    "mvp = np.ones((mnz, mnx), rtype) * 3000\n",
    "wavefield = np.zeros((mnz, mnx, nt), rtype)"
   ]
  },
  {
   "cell_type": "code",
   "execution_count": 40,
   "id": "d03a2123-21b3-45ce-905c-e6bece969f7c",
   "metadata": {},
   "outputs": [],
   "source": [
    "C=np.array([1.12500000000000, -0.0416666666666667])"
   ]
  },
  {
   "cell_type": "code",
   "execution_count": 41,
   "id": "bfd76607-29aa-436a-b4ee-7234b6b1a1a0",
   "metadata": {},
   "outputs": [],
   "source": [
    "ss,wave=forward(ishot,vp_e,nx,nz,nt,npml,order,dx,dz,dt,source,\n",
    "            sx,sz,rx,rz,\n",
    "            nrcv,\n",
    "            C,\n",
    "           a_x,a_xh,a_z,a_zh,\n",
    "           b_x,b_xh,b_z,b_zh,rtype)"
   ]
  },
  {
   "cell_type": "code",
   "execution_count": 65,
   "id": "69334ede-9eb0-4b10-b459-15011bca56dc",
   "metadata": {},
   "outputs": [
    {
     "data": {
      "image/png": "[encoded data removed]",
      "text/plain": [
       "<Figure size 432x288 with 2 Axes>"
      ]
     },
     "metadata": {
      "needs_background": "light"
     },
     "output_type": "display_data"
    }
   ],
   "source": [
    "# plt.imshow(wave[100,:,:],aspect='auto')\n",
    "wmin=np.min(wave); wmax=np.max(wave)\n",
    "plt.imshow(wave[1000,order+npml:order+npml+nx,order+npml:order+npml+nz],aspect='auto', cmap='gray', origin='lower',vmin=wmin*0.1,vmax=wmax*0.1)\n",
    "plt.colorbar()\n",
    "plt.savefig('CPML_wave_1sec.jpg')"
   ]
  },
  {
   "cell_type": "code",
   "execution_count": 15,
   "id": "f5bd96b4-1de1-422d-b8a3-25fe03890337",
   "metadata": {
    "tags": []
   },
   "outputs": [
    {
     "ename": "KeyboardInterrupt",
     "evalue": "",
     "output_type": "error",
     "traceback": [
      "\u001b[1;31m---------------------------------------------------------------------------\u001b[0m",
      "\u001b[1;31mKeyboardInterrupt\u001b[0m                         Traceback (most recent call last)",
      "\u001b[1;32m<ipython-input-15-5c07205b2208>\u001b[0m in \u001b[0;36m<module>\u001b[1;34m\u001b[0m\n\u001b[0;32m     16\u001b[0m     \u001b[1;32mfor\u001b[0m \u001b[0mi\u001b[0m \u001b[1;32min\u001b[0m \u001b[0mrange\u001b[0m\u001b[1;33m(\u001b[0m\u001b[1;36m1\u001b[0m\u001b[1;33m,\u001b[0m \u001b[0mmnx\u001b[0m \u001b[1;33m-\u001b[0m \u001b[1;36m1\u001b[0m\u001b[1;33m)\u001b[0m\u001b[1;33m:\u001b[0m\u001b[1;33m\u001b[0m\u001b[1;33m\u001b[0m\u001b[0m\n\u001b[0;32m     17\u001b[0m         \u001b[1;32mfor\u001b[0m \u001b[0mj\u001b[0m \u001b[1;32min\u001b[0m \u001b[0mrange\u001b[0m\u001b[1;33m(\u001b[0m\u001b[1;36m1\u001b[0m\u001b[1;33m,\u001b[0m \u001b[0mmnz\u001b[0m \u001b[1;33m-\u001b[0m \u001b[1;36m1\u001b[0m\u001b[1;33m)\u001b[0m\u001b[1;33m:\u001b[0m\u001b[1;33m\u001b[0m\u001b[1;33m\u001b[0m\u001b[0m\n\u001b[1;32m---> 18\u001b[1;33m             \u001b[0mu3\u001b[0m\u001b[1;33m[\u001b[0m\u001b[0mj\u001b[0m\u001b[1;33m,\u001b[0m \u001b[0mi\u001b[0m\u001b[1;33m]\u001b[0m \u001b[1;33m=\u001b[0m \u001b[1;36m2\u001b[0m \u001b[1;33m*\u001b[0m \u001b[0mu2\u001b[0m\u001b[1;33m[\u001b[0m\u001b[0mj\u001b[0m\u001b[1;33m,\u001b[0m \u001b[0mi\u001b[0m\u001b[1;33m]\u001b[0m \u001b[1;33m-\u001b[0m \u001b[0mu1\u001b[0m\u001b[1;33m[\u001b[0m\u001b[0mj\u001b[0m\u001b[1;33m,\u001b[0m \u001b[0mi\u001b[0m\u001b[1;33m]\u001b[0m \u001b[1;33m+\u001b[0m \u001b[1;33m(\u001b[0m\u001b[1;33m(\u001b[0m\u001b[0mmvp\u001b[0m\u001b[1;33m[\u001b[0m\u001b[0mj\u001b[0m\u001b[1;33m,\u001b[0m \u001b[0mi\u001b[0m\u001b[1;33m]\u001b[0m \u001b[1;33m*\u001b[0m \u001b[0mdt\u001b[0m\u001b[1;33m)\u001b[0m \u001b[1;33m**\u001b[0m \u001b[1;36m2\u001b[0m\u001b[1;33m)\u001b[0m \u001b[1;33m*\u001b[0m \u001b[1;33m(\u001b[0m\u001b[1;33m(\u001b[0m\u001b[0mu2\u001b[0m\u001b[1;33m[\u001b[0m\u001b[0mj\u001b[0m\u001b[1;33m,\u001b[0m \u001b[0mi\u001b[0m \u001b[1;33m+\u001b[0m \u001b[1;36m1\u001b[0m\u001b[1;33m]\u001b[0m \u001b[1;33m-\u001b[0m \u001b[1;36m2\u001b[0m \u001b[1;33m*\u001b[0m \u001b[0mu2\u001b[0m\u001b[1;33m[\u001b[0m\u001b[0mj\u001b[0m\u001b[1;33m,\u001b[0m \u001b[0mi\u001b[0m\u001b[1;33m]\u001b[0m \u001b[1;33m+\u001b[0m \u001b[0mu2\u001b[0m\u001b[1;33m[\u001b[0m\u001b[0mj\u001b[0m\u001b[1;33m,\u001b[0m \u001b[0mi\u001b[0m \u001b[1;33m-\u001b[0m \u001b[1;36m1\u001b[0m\u001b[1;33m]\u001b[0m\u001b[1;33m)\u001b[0m \u001b[1;33m/\u001b[0m \u001b[0mdx\u001b[0m \u001b[1;33m**\u001b[0m \u001b[1;36m2\u001b[0m \u001b[1;33m+\u001b[0m \u001b[1;33m(\u001b[0m\u001b[0mu2\u001b[0m\u001b[1;33m[\u001b[0m\u001b[0mj\u001b[0m \u001b[1;33m+\u001b[0m \u001b[1;36m1\u001b[0m\u001b[1;33m,\u001b[0m \u001b[0mi\u001b[0m\u001b[1;33m]\u001b[0m \u001b[1;33m-\u001b[0m \u001b[1;36m2\u001b[0m \u001b[1;33m*\u001b[0m \u001b[0mu2\u001b[0m\u001b[1;33m[\u001b[0m\u001b[0mj\u001b[0m\u001b[1;33m,\u001b[0m \u001b[0mi\u001b[0m\u001b[1;33m]\u001b[0m \u001b[1;33m+\u001b[0m \u001b[0mu2\u001b[0m\u001b[1;33m[\u001b[0m\u001b[0mj\u001b[0m \u001b[1;33m-\u001b[0m \u001b[1;36m1\u001b[0m\u001b[1;33m,\u001b[0m \u001b[0mi\u001b[0m\u001b[1;33m]\u001b[0m\u001b[1;33m)\u001b[0m \u001b[1;33m/\u001b[0m \u001b[0mdz\u001b[0m \u001b[1;33m**\u001b[0m \u001b[1;36m2\u001b[0m\u001b[1;33m)\u001b[0m\u001b[1;33m\u001b[0m\u001b[1;33m\u001b[0m\u001b[0m\n\u001b[0m\u001b[0;32m     19\u001b[0m             \u001b[0mu3\u001b[0m\u001b[1;33m[\u001b[0m\u001b[0mj\u001b[0m\u001b[1;33m,\u001b[0m \u001b[0mi\u001b[0m\u001b[1;33m]\u001b[0m \u001b[1;33m=\u001b[0m \u001b[0mu3\u001b[0m\u001b[1;33m[\u001b[0m\u001b[0mj\u001b[0m\u001b[1;33m,\u001b[0m \u001b[0mi\u001b[0m\u001b[1;33m]\u001b[0m \u001b[1;33m+\u001b[0m \u001b[1;33m(\u001b[0m\u001b[0mdt\u001b[0m \u001b[1;33m**\u001b[0m \u001b[1;36m2\u001b[0m\u001b[1;33m)\u001b[0m \u001b[1;33m*\u001b[0m \u001b[1;33m(\u001b[0m\u001b[0mshot\u001b[0m\u001b[1;33m[\u001b[0m\u001b[0mj\u001b[0m\u001b[1;33m,\u001b[0m \u001b[0mi\u001b[0m\u001b[1;33m]\u001b[0m \u001b[1;33m*\u001b[0m \u001b[0msource\u001b[0m\u001b[1;33m[\u001b[0m\u001b[0mt\u001b[0m\u001b[1;33m]\u001b[0m\u001b[1;33m)\u001b[0m\u001b[1;33m\u001b[0m\u001b[1;33m\u001b[0m\u001b[0m\n\u001b[0;32m     20\u001b[0m \u001b[1;33m\u001b[0m\u001b[0m\n",
      "\u001b[1;31mKeyboardInterrupt\u001b[0m: "
     ]
    }
   ],
   "source": [
    "## Main loop\n",
    "for t in range(nt):\n",
    "    for i in range(1, mnx - 1):\n",
    "        for j in range(1, mnz - 1):\n",
    "            u3[j, i] = 2 * u2[j, i] - u1[j, i] + ((mvp[j, i] * dt) ** 2) * ((u2[j, i + 1] - 2 * u2[j, i] + u2[j, i - 1]) / dx ** 2 + (u2[j + 1, i] - 2 * u2[j, i] + u2[j - 1, i]) / dz ** 2)\n",
    "            u3[j, i] = u3[j, i] + (dt ** 2) * (shot[j, i] * source[t])\n",
    "    \n",
    "    wavefield[:,:,t] = u3\n",
    "    # Update time steps\n",
    "    u1 = u2.copy()\n",
    "    u2 = u3.copy()\n",
    "    u3 = np.zeros((mnz, mnx), rtype)\n",
    "\n",
    "# Plot the final solution\n",
    "plt.imshow(u3, cmap='gray', origin='lower')\n",
    "plt.colorbar()\n",
    "plt.show()"
   ]
  },
  {
   "cell_type": "code",
   "execution_count": null,
   "id": "77173a88-f3ad-4573-8968-0e68d73d9cc9",
   "metadata": {},
   "outputs": [],
   "source": [
    "wmin=np.min(wavefield); wmax=np.max(wavefield)\n",
    "fig = plt.figure(figsize=(10,6))\n",
    "\n",
    "plt.imshow(wavefield[:,:,1000],aspect='auto', cmap='gray', origin='lower',vmin=wmin*0.1,vmax=wmax*0.1)\n",
    "plt.colorbar()\n",
    "plt.savefig('wave_1sec.jpg')\n",
    "    "
   ]
  },
  {
   "cell_type": "code",
   "execution_count": null,
   "id": "48211e38-e1a6-42cd-9791-3519a82622ab",
   "metadata": {},
   "outputs": [],
   "source": [
    "wavefield"
   ]
  },
  {
   "cell_type": "code",
   "execution_count": null,
   "id": "244ab4cf-3ed4-46fe-af63-b67aa5accb5d",
   "metadata": {},
   "outputs": [],
   "source": []
  }
 ],
 "metadata": {
  "kernelspec": {
   "display_name": "Python 3",
   "language": "python",
   "name": "python3"
  },
  "language_info": {
   "codemirror_mode": {
    "name": "ipython",
    "version": 3
   },
   "file_extension": ".py",
   "mimetype": "text/x-python",
   "name": "python",
   "nbconvert_exporter": "python",
   "pygments_lexer": "ipython3",
   "version": "3.6.13"
  }
 },
 "nbformat": 4,
 "nbformat_minor": 5
}
